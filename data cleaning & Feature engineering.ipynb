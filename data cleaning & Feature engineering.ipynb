{
 "cells": [
  {
   "cell_type": "code",
   "execution_count": null,
   "id": "1434416b",
   "metadata": {
    "vscode": {
     "languageId": "plaintext"
    }
   },
   "outputs": [],
   "source": [
    "##Checking whther there is any missing values or not\n",
    "\n",
    "\n",
    "df.isnull().sum()"
   ]
  },
  {
   "cell_type": "code",
   "execution_count": null,
   "id": "85652845",
   "metadata": {
    "vscode": {
     "languageId": "plaintext"
    }
   },
   "outputs": [],
   "source": [
    "##Feature engineering & preprocessing publish dates\n",
    "\n",
    "df['published_date'] = pd.to_datetime(df['published_date'])\n",
    "df['engagement_rate'] = (df['likes'] + df['comments']) / df['views']\n",
    "df['day_of_week'] = df['published_date'].dt.day_name()\n",
    "df['hour'] = df['published_date'].dt.hour"
   ]
  }
 ],
 "metadata": {
  "language_info": {
   "name": "python"
  }
 },
 "nbformat": 4,
 "nbformat_minor": 5
}
