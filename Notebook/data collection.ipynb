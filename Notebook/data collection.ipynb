{
 "cells": [
  {
   "cell_type": "code",
   "execution_count": null,
   "id": "33c4dcba",
   "metadata": {
    "vscode": {
     "languageId": "plaintext"
    }
   },
   "outputs": [],
   "source": [
    "##Get the Channel ID\n",
    "    \n",
    "    \n",
    "    request = youtube.channels().list(\n",
    "        part=\"id\",\n",
    "        forHandle=\"@mkbhd\"\n",
    "    )\n",
    "    response = request.execute()\n",
    "    print(response['items'][0]['id'])\n",
    "    \n",
    "    "
   ]
  },
  {
   "cell_type": "code",
   "execution_count": null,
   "id": "0ec66048",
   "metadata": {
    "vscode": {
     "languageId": "plaintext"
    }
   },
   "outputs": [],
   "source": [
    "##Test the API connection\n",
    "    \n",
    "    \n",
    "    from googleapiclient.discovery import build\n",
    "    import pandas as pd\n",
    "    \n",
    "    # API key\n",
    "    API_KEY = \"API_KEY\"\n",
    "    \n",
    "    #YouTube API client\n",
    "    youtube = build('youtube', 'v3', developerKey=API_KEY)\n",
    "    \n",
    "    CHANNEL_ID = \"UCBJycsmduvYEL83R_U4JriQ\"  \n",
    "    "
   ]
  },
  {
   "cell_type": "code",
   "execution_count": null,
   "id": "4dc41bec",
   "metadata": {
    "vscode": {
     "languageId": "plaintext"
    }
   },
   "outputs": [],
   "source": [
    "## Get all the video IDs for a channel\n",
    "\n",
    "\n",
    "\n",
    "def get_all_video_ids(channel_id):\n",
    "    request = youtube.channels().list(\n",
    "        part=\"contentDetails\",\n",
    "        id=channel_id\n",
    "    )\n",
    "    response = request.execute()\n",
    "    uploads_playlist_id = response['items'][0]['contentDetails']['relatedPlaylists']['uploads']\n",
    "\n",
    "    video_ids = []\n",
    "    next_page_token = None\n",
    "\n",
    "    while True:\n",
    "        request = youtube.playlistItems().list(\n",
    "            part=\"contentDetails\",\n",
    "            playlistId=uploads_playlist_id,\n",
    "            maxResults=100,\n",
    "            pageToken=next_page_token\n",
    "        )\n",
    "        response = request.execute()\n",
    "\n",
    "        for item in response['items']:\n",
    "            video_ids.append(item['contentDetails']['videoId'])\n",
    "\n",
    "        next_page_token = response.get('nextPageToken')\n",
    "        if not next_page_token:\n",
    "            break\n",
    "\n",
    "    return video_ids\n",
    "\n",
    "CHANNEL_ID = \"UCBJycsmduvYEL83R_U4JriQ\"  # MKBHD\n",
    "video_ids = get_all_video_ids(CHANNEL_ID)\n",
    "print(\"Total videos found:\", len(video_ids))"
   ]
  }
 ],
 "metadata": {
  "language_info": {
   "name": "python"
  }
 },
 "nbformat": 4,
 "nbformat_minor": 5
}
