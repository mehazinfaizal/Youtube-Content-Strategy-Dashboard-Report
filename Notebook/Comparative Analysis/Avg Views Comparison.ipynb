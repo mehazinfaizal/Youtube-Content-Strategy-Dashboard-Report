{
 "cells": [
  {
   "cell_type": "code",
   "execution_count": null,
   "id": "8cfd983b",
   "metadata": {
    "vscode": {
     "languageId": "plaintext"
    }
   },
   "outputs": [],
   "source": [
    "##Avg Views\n",
    "\n",
    "\n",
    "avg_views = {\n",
    "    \"MKBHD\": df[\"views\"].mean(),\n",
    "    \"Mrwhosetheboss\": df_mr[\"views\"].mean()\n",
    "}\n",
    "print(avg_views)"
   ]
  }
 ],
 "metadata": {
  "language_info": {
   "name": "python"
  }
 },
 "nbformat": 4,
 "nbformat_minor": 5
}
