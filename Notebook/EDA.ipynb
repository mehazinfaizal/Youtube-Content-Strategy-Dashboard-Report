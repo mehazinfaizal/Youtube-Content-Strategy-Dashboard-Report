{
 "cells": [
  {
   "cell_type": "code",
   "execution_count": null,
   "id": "8710a3e6",
   "metadata": {
    "vscode": {
     "languageId": "plaintext"
    }
   },
   "outputs": [],
   "source": [
    "##Average engagement rate by weekday\n",
    "\n",
    "\n",
    "day_engagement = df.groupby(\"day_of_week\")[\"engagement_rate\"].mean().sort_values()\n",
    "\n",
    "plt.figure(figsize=(8,5))\n",
    "day_engagement.plot(kind=\"bar\", color=\"skyblue\", edgecolor=\"black\")\n",
    "plt.title(\"Avg Engagement Rate by Day of Week\")\n",
    "plt.ylabel(\"Engagement Rate\")\n",
    "plt.xlabel(\"Day of Week\")\n",
    "plt.show()"
   ]
  },
  {
   "cell_type": "code",
   "execution_count": null,
   "id": "dacaf108",
   "metadata": {
    "vscode": {
     "languageId": "plaintext"
    }
   },
   "outputs": [],
   "source": [
    "##Videos uploaded by day of week\n",
    "\n",
    "import matplotlib.pyplot as plt\n",
    "\n",
    "df[\"published_date\"] = pd.to_datetime(df[\"published_date\"])\n",
    "df[\"day_of_week\"] = df[\"published_date\"].dt.day_name()\n",
    "\n",
    "videos_per_day = df[\"day_of_week\"].value_counts()\n",
    "\n",
    "print(videos_per_day)\n",
    "videos_per_day.sort_index().plot(kind=\"bar\", color=\"purple\", figsize=(8,5))\n",
    "plt.title(\"Number of Videos Uploaded by Day of Week\")\n",
    "plt.ylabel(\"Number of Videos\")\n",
    "plt.xlabel(\"Day of Week\")\n",
    "plt.show()"
   ]
  },
  {
   "cell_type": "code",
   "execution_count": null,
   "id": "e5b34658",
   "metadata": {
    "vscode": {
     "languageId": "plaintext"
    }
   },
   "outputs": [],
   "source": [
    "##Does video duration affect views?\n",
    "\n",
    "\n",
    "plt.figure(figsize=(8,6))\n",
    "plt.scatter(df[\"duration\"], df[\"views\"], alpha=0.5, color=\"orange\")\n",
    "plt.title(\"Video Duration vs Views\")\n",
    "plt.xlabel(\"Duration (minutes)\")\n",
    "plt.ylabel(\"Views\")\n",
    "plt.show()"
   ]
  },
  {
   "cell_type": "code",
   "execution_count": null,
   "id": "37158a38",
   "metadata": {
    "vscode": {
     "languageId": "plaintext"
    }
   },
   "outputs": [],
   "source": [
    "##Monthly trend: views and uploads\n",
    "\n",
    "\n",
    "df[\"published_date\"] = pd.to_datetime(df[\"published_date\"]) \n",
    "df[\"Month\"] = df[\"published_date\"].dt.to_period(\"M\")\n",
    "\n",
    "monthly = df.groupby(\"Month\").agg({\n",
    "    \"views\": \"sum\",\n",
    "    \"title\": \"count\"   # upload count\n",
    "}).rename(columns={\"title\": \"Uploads\"})\n",
    "\n",
    "monthly.plot(\n",
    "    y=[\"views\", \"Uploads\"],\n",
    "    kind=\"line\",\n",
    "    figsize=(10,6),\n",
    "    marker=\"o\"\n",
    ")\n",
    "plt.title(\"Monthly Trends: Views, Uploads\")\n",
    "plt.ylabel(\"Value\")\n",
    "plt.show()"
   ]
  },
  {
   "cell_type": "markdown",
   "id": "e9189fa4",
   "metadata": {},
   "source": []
  }
 ],
 "metadata": {
  "language_info": {
   "name": "python"
  }
 },
 "nbformat": 4,
 "nbformat_minor": 5
}
