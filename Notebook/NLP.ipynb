{
 "cells": [
  {
   "cell_type": "code",
   "execution_count": null,
   "id": "8f3b38fd",
   "metadata": {
    "vscode": {
     "languageId": "plaintext"
    }
   },
   "outputs": [],
   "source": [
    "##Keyword Analysis\n",
    "\n",
    "\n",
    "\n",
    "import pandas as pd\n",
    "import string\n",
    "from nltk.corpus import stopwords\n",
    "from collections import defaultdict\n",
    "import nltk\n",
    "\n",
    "nltk.download(\"stopwords\")\n",
    "\n",
    "def keyword_stats(df, top_n=30):\n",
    "    stop_words = set(stopwords.words(\"english\"))\n",
    "    keyword_data = defaultdict(list)\n",
    "\n",
    "    for _, row in df.iterrows():\n",
    "        title = row[\"title\"].lower().translate(str.maketrans('', '', string.punctuation))\n",
    "        words = [w for w in title.split() if w not in stop_words and len(w) > 2]\n",
    "\n",
    "        engagement = 0\n",
    "        if row[\"views\"] > 0:\n",
    "            engagement = (row[\"likes\"] + row[\"comments\"]) / row[\"views\"]\n",
    "\n",
    "        for w in words:\n",
    "            keyword_data[w].append({\n",
    "                \"views\": row[\"views\"],\n",
    "                \"engagement\": engagement\n",
    "            })\n",
    "\n",
    "    keyword_summary = []\n",
    "    for word, stats in keyword_data.items():\n",
    "        avg_views = sum(x[\"views\"] for x in stats) / len(stats)\n",
    "        avg_engagement = sum(x[\"engagement\"] for x in stats) / len(stats)\n",
    "        keyword_summary.append([word, len(stats), avg_views, avg_engagement])\n",
    "\n",
    "    result = pd.DataFrame(keyword_summary, columns=[\"Keyword\", \"Count\", \"Avg Views\", \"Avg Engagement\"])\\\n",
    "             .sort_values(by=\"Count\", ascending=False).head(top_n)\\\n",
    "             .reset_index(drop=True)\n",
    "    return result\n",
    "\n",
    "pd.set_option(\"display.float_format\", \"{:,.2f}\".format)\n",
    "keyword_df = keyword_stats(df, top_n=20)\n",
    "print(keyword_df)"
   ]
  }
 ],
 "metadata": {
  "language_info": {
   "name": "python"
  }
 },
 "nbformat": 4,
 "nbformat_minor": 5
}
